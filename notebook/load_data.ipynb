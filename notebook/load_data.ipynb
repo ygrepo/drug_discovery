{
 "cells": [
  {
   "cell_type": "code",
   "execution_count": null,
   "id": "e81ccad5",
   "metadata": {},
   "outputs": [],
   "source": [
    "import pandas as pd\n",
    "import numpy as np\n",
    "import matplotlib.pyplot as plt\n",
    "from pathlib import Path\n"
   ]
  },
  {
   "cell_type": "code",
   "execution_count": null,
   "id": "90053908",
   "metadata": {},
   "outputs": [],
   "source": [
    "%reload_ext autoreload\n",
    "%autoreload 2"
   ]
  },
  {
   "cell_type": "code",
   "execution_count": null,
   "id": "2fac48de",
   "metadata": {},
   "outputs": [],
   "source": [
    "path = Path(\"/sc/arion/projects/DiseaseGeneCell/Huang_lab_project/wangcDrugRepoProject/BindDBdata/All_BindingDB/ESM2_BindingDB_random\")\n",
    "df = pd.read_parquet(path / \"train.parquet, engine='fastparquet'\")\n",
    "df.head()"
   ]
  }
 ],
 "metadata": {
  "language_info": {
   "name": "python"
  }
 },
 "nbformat": 4,
 "nbformat_minor": 5
}
