{
 "cells": [
  {
   "cell_type": "code",
   "execution_count": 1,
   "metadata": {},
   "outputs": [],
   "source": [
    "import pandas as pd\n",
    "import numpy as np\n",
    "from rdkit import Chem\n",
    "from rdkit.Chem import AllChem\n",
    "from transformers import BertTokenizer, BertModel\n",
    "import torch\n",
    "import random\n",
    "from sklearn.model_selection import train_test_split\n",
    "from tqdm import tqdm\n",
    "pd.set_option('display.max_columns', None)"
   ]
  },
  {
   "cell_type": "code",
   "execution_count": 3,
   "metadata": {},
   "outputs": [
    {
     "data": {
      "text/html": [
       "<div>\n",
       "<style scoped>\n",
       "    .dataframe tbody tr th:only-of-type {\n",
       "        vertical-align: middle;\n",
       "    }\n",
       "\n",
       "    .dataframe tbody tr th {\n",
       "        vertical-align: top;\n",
       "    }\n",
       "\n",
       "    .dataframe thead th {\n",
       "        text-align: right;\n",
       "    }\n",
       "</style>\n",
       "<table border=\"1\" class=\"dataframe\">\n",
       "  <thead>\n",
       "    <tr style=\"text-align: right;\">\n",
       "      <th></th>\n",
       "      <th>TargetID</th>\n",
       "      <th>DrugID</th>\n",
       "      <th>Highest_status</th>\n",
       "      <th>MOA</th>\n",
       "      <th>TARGNAME</th>\n",
       "      <th>sequence</th>\n",
       "      <th>smiles</th>\n",
       "      <th>Pubchem CID</th>\n",
       "      <th>Activity</th>\n",
       "    </tr>\n",
       "  </thead>\n",
       "  <tbody>\n",
       "    <tr>\n",
       "      <th>0</th>\n",
       "      <td>T38529</td>\n",
       "      <td>D00SOZ</td>\n",
       "      <td>Approved</td>\n",
       "      <td>Agonist</td>\n",
       "      <td>Prostaglandin E2 receptor EP2 (PTGER2)</td>\n",
       "      <td>MGNASNDSQSEDCETRQWLPPGESPAISSVMFSAGVLGNLIALALL...</td>\n",
       "      <td>CC(C)OC(=O)CNc1cccc(CN(Cc2ccc(-n3cccn3)cc2)S(=...</td>\n",
       "      <td>44230999.0</td>\n",
       "      <td>IC50 = 4180 nM</td>\n",
       "    </tr>\n",
       "    <tr>\n",
       "      <th>1</th>\n",
       "      <td>T73189</td>\n",
       "      <td>D02URM</td>\n",
       "      <td>Approved</td>\n",
       "      <td>Inhibitor</td>\n",
       "      <td>Fungal 1,3-beta-glucan synthase (Fung GSC2)</td>\n",
       "      <td>MSYNDPNLNGQYYSNGDGTGDGNYPTYQVTQDQSAYDEYGQPIYTQ...</td>\n",
       "      <td>CCCCCOc1ccc(-c2ccc(-c3ccc(C(=O)N[C@H]4C[C@@H](...</td>\n",
       "      <td>NaN</td>\n",
       "      <td>NaN</td>\n",
       "    </tr>\n",
       "    <tr>\n",
       "      <th>2</th>\n",
       "      <td>T73189</td>\n",
       "      <td>D07INL</td>\n",
       "      <td>Approved</td>\n",
       "      <td>Inhibitor</td>\n",
       "      <td>Fungal 1,3-beta-glucan synthase (Fung GSC2)</td>\n",
       "      <td>MSYNDPNLNGQYYSNGDGTGDGNYPTYQVTQDQSAYDEYGQPIYTQ...</td>\n",
       "      <td>CC(C)[C@@H](C)[C@@]1(C)CC[C@]2(C)[C@H]3CC[C@@H...</td>\n",
       "      <td>NaN</td>\n",
       "      <td>NaN</td>\n",
       "    </tr>\n",
       "    <tr>\n",
       "      <th>3</th>\n",
       "      <td>T89534</td>\n",
       "      <td>D07KUN</td>\n",
       "      <td>Approved</td>\n",
       "      <td>Modulator</td>\n",
       "      <td>Estrogen receptor (ESR)</td>\n",
       "      <td>MTMTLHTKASGMALLHQIQGNELEPLNRPQLKIPLERPLGEVYLDS...</td>\n",
       "      <td>CCNCCc1ccc(CN(CC)c2cc(OC)ccc2[C@@H]2CCc3cc(O)c...</td>\n",
       "      <td>NaN</td>\n",
       "      <td>NaN</td>\n",
       "    </tr>\n",
       "    <tr>\n",
       "      <th>4</th>\n",
       "      <td>T21678</td>\n",
       "      <td>D07URD</td>\n",
       "      <td>Approved</td>\n",
       "      <td>Modulator</td>\n",
       "      <td>Alpha-galactosidase A (GLA)</td>\n",
       "      <td>MQLRNPELHLGCALALRFLALVSWDIPGARALDNGLARTPTMGWLH...</td>\n",
       "      <td>N[C@@H](CCCCNC(=O)CCC(=O)NCCOCCNC(=O)CCC(=O)NC...</td>\n",
       "      <td>NaN</td>\n",
       "      <td>NaN</td>\n",
       "    </tr>\n",
       "  </tbody>\n",
       "</table>\n",
       "</div>"
      ],
      "text/plain": [
       "  TargetID  DrugID Highest_status        MOA  \\\n",
       "0   T38529  D00SOZ       Approved    Agonist   \n",
       "1   T73189  D02URM       Approved  Inhibitor   \n",
       "2   T73189  D07INL       Approved  Inhibitor   \n",
       "3   T89534  D07KUN       Approved  Modulator   \n",
       "4   T21678  D07URD       Approved  Modulator   \n",
       "\n",
       "                                      TARGNAME  \\\n",
       "0       Prostaglandin E2 receptor EP2 (PTGER2)   \n",
       "1  Fungal 1,3-beta-glucan synthase (Fung GSC2)   \n",
       "2  Fungal 1,3-beta-glucan synthase (Fung GSC2)   \n",
       "3                      Estrogen receptor (ESR)   \n",
       "4                  Alpha-galactosidase A (GLA)   \n",
       "\n",
       "                                            sequence  \\\n",
       "0  MGNASNDSQSEDCETRQWLPPGESPAISSVMFSAGVLGNLIALALL...   \n",
       "1  MSYNDPNLNGQYYSNGDGTGDGNYPTYQVTQDQSAYDEYGQPIYTQ...   \n",
       "2  MSYNDPNLNGQYYSNGDGTGDGNYPTYQVTQDQSAYDEYGQPIYTQ...   \n",
       "3  MTMTLHTKASGMALLHQIQGNELEPLNRPQLKIPLERPLGEVYLDS...   \n",
       "4  MQLRNPELHLGCALALRFLALVSWDIPGARALDNGLARTPTMGWLH...   \n",
       "\n",
       "                                              smiles  Pubchem CID  \\\n",
       "0  CC(C)OC(=O)CNc1cccc(CN(Cc2ccc(-n3cccn3)cc2)S(=...   44230999.0   \n",
       "1  CCCCCOc1ccc(-c2ccc(-c3ccc(C(=O)N[C@H]4C[C@@H](...          NaN   \n",
       "2  CC(C)[C@@H](C)[C@@]1(C)CC[C@]2(C)[C@H]3CC[C@@H...          NaN   \n",
       "3  CCNCCc1ccc(CN(CC)c2cc(OC)ccc2[C@@H]2CCc3cc(O)c...          NaN   \n",
       "4  N[C@@H](CCCCNC(=O)CCC(=O)NCCOCCNC(=O)CCC(=O)NC...          NaN   \n",
       "\n",
       "         Activity  \n",
       "0  IC50 = 4180 nM  \n",
       "1             NaN  \n",
       "2             NaN  \n",
       "3             NaN  \n",
       "4             NaN  "
      ]
     },
     "execution_count": 3,
     "metadata": {},
     "output_type": "execute_result"
    }
   ],
   "source": [
    "data = pd.read_csv('../BindDBdata/TTD/final_drug_target_ttd.csv')\n",
    "data.head()"
   ]
  },
  {
   "cell_type": "code",
   "execution_count": 5,
   "metadata": {},
   "outputs": [],
   "source": [
    "# Function to generate negative pairs\n",
    "def generate_negative_pairs(df, negative_positive_ratio=1):\n",
    "    # Extract unique drugs and targets\n",
    "    unique_drugs = df['DrugID'].unique()\n",
    "    unique_targets = df['TargetID'].unique()\n",
    "    \n",
    "    # Create a set of positive pairs for quick lookup\n",
    "    positive_pairs = set(zip(df['DrugID'], df['TargetID']))\n",
    "    \n",
    "    # Calculate the number of negative pairs needed\n",
    "    num_positive_pairs = len(df)\n",
    "    num_negative_pairs = int(num_positive_pairs * negative_positive_ratio)\n",
    "    \n",
    "    # Generate negative pairs\n",
    "    negative_pairs = set()\n",
    "    while len(negative_pairs) < num_negative_pairs:\n",
    "        drug = random.choice(unique_drugs)\n",
    "        target = random.choice(unique_targets)\n",
    "        if (drug, target) not in positive_pairs and (drug, target) not in negative_pairs:\n",
    "            negative_pairs.add((drug, target))\n",
    "    \n",
    "    # Create a DataFrame for negative pairs\n",
    "    negative_df = pd.DataFrame(list(negative_pairs), columns=['DrugID', 'TargetID'])\n",
    "    return negative_df"
   ]
  },
  {
   "cell_type": "code",
   "execution_count": 7,
   "metadata": {},
   "outputs": [],
   "source": [
    "# Generate negative pairs with a 1:1 ratio\n",
    "negative_df = generate_negative_pairs(data, negative_positive_ratio=1)\n",
    "\n",
    "# Merge negative pairs with original dataframe to retain required columns\n",
    "negative_df = negative_df.merge(data[['DrugID', 'smiles']].drop_duplicates(),\n",
    "                                on='DrugID', how='left')\n",
    "negative_df = negative_df.merge(data[['TargetID', 'sequence']].drop_duplicates(),\n",
    "                                on='TargetID', how='left')\n",
    "\n",
    "# Rearrange columns for clarity\n",
    "negative_df = negative_df[['DrugID', 'smiles', \n",
    "                           'TargetID', 'sequence']]\n",
    "positive_df = data[['DrugID', 'smiles',\n",
    "                    'TargetID', 'sequence']]\n"
   ]
  },
  {
   "cell_type": "code",
   "execution_count": 8,
   "metadata": {},
   "outputs": [
    {
     "name": "stderr",
     "output_type": "stream",
     "text": [
      "/var/folders/7_/j8_cym2s23jfxbknz2gsv_h80000gn/T/ipykernel_90956/2616654014.py:2: SettingWithCopyWarning: \n",
      "A value is trying to be set on a copy of a slice from a DataFrame.\n",
      "Try using .loc[row_indexer,col_indexer] = value instead\n",
      "\n",
      "See the caveats in the documentation: https://pandas.pydata.org/pandas-docs/stable/user_guide/indexing.html#returning-a-view-versus-a-copy\n",
      "  positive_df['label'] = 1\n"
     ]
    }
   ],
   "source": [
    "# Add labels to positive (1) and negative (0) dataframes\n",
    "positive_df['label'] = 1\n",
    "negative_df['label'] = 0"
   ]
  },
  {
   "cell_type": "code",
   "execution_count": null,
   "metadata": {},
   "outputs": [],
   "source": [
    "# Combine positive and negative datasets\n",
    "combined_df = pd.concat([positive_df, negative_df], ignore_index=True)"
   ]
  },
  {
   "cell_type": "code",
   "execution_count": 12,
   "metadata": {},
   "outputs": [
    {
     "data": {
      "text/plain": [
       "label\n",
       "1    29590\n",
       "0    29590\n",
       "Name: count, dtype: int64"
      ]
     },
     "execution_count": 12,
     "metadata": {},
     "output_type": "execute_result"
    }
   ],
   "source": [
    "combined_df['label'].value_counts()"
   ]
  },
  {
   "cell_type": "code",
   "execution_count": 13,
   "metadata": {},
   "outputs": [
    {
     "name": "stderr",
     "output_type": "stream",
     "text": [
      "Some weights of EsmModel were not initialized from the model checkpoint at facebook/esm2_t6_8M_UR50D and are newly initialized: ['esm.pooler.dense.bias', 'esm.pooler.dense.weight']\n",
      "You should probably TRAIN this model on a down-stream task to be able to use it for predictions and inference.\n"
     ]
    }
   ],
   "source": [
    "from transformers import AutoTokenizer, AutoModel\n",
    "import torch\n",
    "\n",
    "# Load ChemRoBERTa tokenizer and model\n",
    "chem_tokenizer = AutoTokenizer.from_pretrained(\"seyonec/ChemBERTa-zinc-base-v1\")\n",
    "chem_model = AutoModel.from_pretrained(\"seyonec/ChemBERTa-zinc-base-v1\")\n",
    "\n",
    "# Load ESM2 tokenizer and model\n",
    "esm_tokenizer = AutoTokenizer.from_pretrained(\"facebook/esm2_t6_8M_UR50D\")\n",
    "esm_model = AutoModel.from_pretrained(\"facebook/esm2_t6_8M_UR50D\")"
   ]
  },
  {
   "cell_type": "code",
   "execution_count": 14,
   "metadata": {},
   "outputs": [],
   "source": [
    "from transformers import AutoTokenizer, AutoModel\n",
    "\n",
    "# esm_tokenizer = AutoTokenizer.from_pretrained(\"facebook/esm2_t33_650M_UR50D\")\n",
    "# esm_model = AutoModel.from_pretrained(\"facebook/esm2_t33_650M_UR50D\")\n",
    "# print(esm_model.config.hidden_size)  # Should output 768\n"
   ]
  },
  {
   "cell_type": "code",
   "execution_count": 15,
   "metadata": {},
   "outputs": [],
   "source": [
    "def extract_chem_features(smiles):\n",
    "    \"\"\"Extract ChemRoBERTa features from SMILES.\"\"\"\n",
    "    try:\n",
    "        tokens = chem_tokenizer(smiles, return_tensors=\"pt\", padding=True, truncation=True)\n",
    "        with torch.no_grad():\n",
    "            embeddings = chem_model(**tokens).last_hidden_state.mean(dim=1).squeeze().numpy()\n",
    "        return embeddings\n",
    "    except:\n",
    "        return np.zeros(768)  # Return zero vector if extraction fails\n",
    "\n",
    "def extract_esm_features(sequence):\n",
    "    \"\"\"Extract ESM2 features from protein sequence.\"\"\"\n",
    "    try:\n",
    "        tokens = esm_tokenizer(sequence, return_tensors=\"pt\", padding=True, truncation=True)\n",
    "        with torch.no_grad():\n",
    "            embeddings = esm_model(**tokens).last_hidden_state.mean(dim=1).squeeze().numpy()\n",
    "        return embeddings\n",
    "    except:\n",
    "        return np.zeros(320)  # Return zero vector if extraction fails"
   ]
  },
  {
   "cell_type": "code",
   "execution_count": 16,
   "metadata": {},
   "outputs": [
    {
     "name": "stdout",
     "output_type": "stream",
     "text": [
      "320\n"
     ]
    }
   ],
   "source": [
    "print(esm_model.config.hidden_size)  # Should output 768\n"
   ]
  },
  {
   "cell_type": "code",
   "execution_count": 49,
   "metadata": {},
   "outputs": [
    {
     "name": "stderr",
     "output_type": "stream",
     "text": [
      "python(37279) MallocStackLogging: can't turn off malloc stack logging because it was not enabled.\n",
      "huggingface/tokenizers: The current process just got forked, after parallelism has already been used. Disabling parallelism to avoid deadlocks...\n",
      "To disable this warning, you can either:\n",
      "\t- Avoid using `tokenizers` before the fork if possible\n",
      "\t- Explicitly set the environment variable TOKENIZERS_PARALLELISM=(true | false)\n"
     ]
    }
   ],
   "source": [
    "# Function to featurize drug SMILES into molecular fingerprints\n",
    "def smiles_to_fingerprint(smiles):\n",
    "    mol = Chem.MolFromSmiles(smiles)\n",
    "    if mol:\n",
    "        return np.array(AllChem.GetMorganFingerprintAsBitVect(mol, 2, nBits=2048))\n",
    "    else:\n",
    "        return np.zeros(2048)\n",
    "\n",
    "# Load ProtBERT for protein embedding\n",
    "tokenizer = BertTokenizer.from_pretrained(\"Rostlab/prot_bert\")\n",
    "model = BertModel.from_pretrained(\"Rostlab/prot_bert\")\n",
    "\n",
    "# Function to featurize protein sequences\n",
    "def featurize_protein(sequence):\n",
    "    inputs = tokenizer(sequence, return_tensors=\"pt\", padding=True, truncation=True)\n",
    "    with torch.no_grad():\n",
    "        outputs = model(**inputs)\n",
    "    return outputs.last_hidden_state.mean(dim=1).squeeze().numpy()"
   ]
  },
  {
   "cell_type": "code",
   "execution_count": 17,
   "metadata": {},
   "outputs": [],
   "source": [
    "# Featurize drugs\n",
    "# Extract unique drugs and proteins\n",
    "unique_drugs = combined_df[['smiles']].drop_duplicates()\n",
    "unique_proteins = combined_df[['sequence']].drop_duplicates()\n"
   ]
  },
  {
   "cell_type": "code",
   "execution_count": 18,
   "metadata": {},
   "outputs": [
    {
     "data": {
      "text/plain": [
       "19746"
      ]
     },
     "execution_count": 18,
     "metadata": {},
     "output_type": "execute_result"
    }
   ],
   "source": [
    "len(unique_drugs)"
   ]
  },
  {
   "cell_type": "code",
   "execution_count": 19,
   "metadata": {},
   "outputs": [
    {
     "data": {
      "text/plain": [
       "1870"
      ]
     },
     "execution_count": 19,
     "metadata": {},
     "output_type": "execute_result"
    }
   ],
   "source": [
    "len(unique_proteins)"
   ]
  },
  {
   "cell_type": "code",
   "execution_count": 20,
   "metadata": {},
   "outputs": [
    {
     "name": "stderr",
     "output_type": "stream",
     "text": [
      "  0%|          | 0/19746 [00:00<?, ?it/s]"
     ]
    },
    {
     "name": "stderr",
     "output_type": "stream",
     "text": [
      "100%|██████████| 19746/19746 [10:59<00:00, 29.95it/s] \n"
     ]
    }
   ],
   "source": [
    "# Extract features for unique drugs\n",
    "tqdm.pandas()  # Enable progress bar for pandas\n",
    "unique_drugs['drug_features'] = unique_drugs['smiles'].progress_apply(extract_chem_features)"
   ]
  },
  {
   "cell_type": "code",
   "execution_count": 21,
   "metadata": {},
   "outputs": [
    {
     "name": "stderr",
     "output_type": "stream",
     "text": [
      "  0%|          | 0/1870 [00:00<?, ?it/s]Asking to truncate to max_length but no maximum length is provided and the model has no predefined maximum length. Default to no truncation.\n",
      "100%|██████████| 1870/1870 [11:06<00:00,  2.81it/s]  \n"
     ]
    }
   ],
   "source": [
    "# Extract features for unique proteins\n",
    "unique_proteins['protein_features'] = unique_proteins['sequence'].progress_apply(extract_esm_features)"
   ]
  },
  {
   "cell_type": "code",
   "execution_count": 22,
   "metadata": {},
   "outputs": [],
   "source": [
    "# Merge features back into the combined dataframe\n",
    "combined_df = combined_df.merge(unique_drugs, on='smiles', how='left')\n",
    "combined_df = combined_df.merge(unique_proteins, on='sequence', how='left')"
   ]
  },
  {
   "cell_type": "code",
   "execution_count": 29,
   "metadata": {},
   "outputs": [],
   "source": [
    "torch.save(combined_df, '../BindDBdata/TTD/final_drug_target_ttd_combined.pt')"
   ]
  },
  {
   "cell_type": "code",
   "execution_count": 2,
   "metadata": {},
   "outputs": [
    {
     "name": "stderr",
     "output_type": "stream",
     "text": [
      "/var/folders/7_/j8_cym2s23jfxbknz2gsv_h80000gn/T/ipykernel_40242/6185232.py:1: FutureWarning: You are using `torch.load` with `weights_only=False` (the current default value), which uses the default pickle module implicitly. It is possible to construct malicious pickle data which will execute arbitrary code during unpickling (See https://github.com/pytorch/pytorch/blob/main/SECURITY.md#untrusted-models for more details). In a future release, the default value for `weights_only` will be flipped to `True`. This limits the functions that could be executed during unpickling. Arbitrary objects will no longer be allowed to be loaded via this mode unless they are explicitly allowlisted by the user via `torch.serialization.add_safe_globals`. We recommend you start setting `weights_only=True` for any use case where you don't have full control of the loaded file. Please open an issue on GitHub for any issues related to this experimental feature.\n",
      "  combined_df = torch.load('../BindDBdata/TTD/final_drug_target_ttd_combined.pt')\n"
     ]
    }
   ],
   "source": [
    "combined_df = torch.load('../BindDBdata/TTD/final_drug_target_ttd_combined.pt')"
   ]
  },
  {
   "cell_type": "code",
   "execution_count": 3,
   "metadata": {},
   "outputs": [],
   "source": [
    "# DataFrame to store AUCs\n",
    "\n",
    "auc_history = pd.DataFrame(columns=['epoch', 'Train Loss', 'Train AUC', 'Val Loss', 'Val AUC'])"
   ]
  },
  {
   "cell_type": "code",
   "execution_count": 4,
   "metadata": {},
   "outputs": [],
   "source": [
    "import torch\n",
    "import torch.nn as nn\n",
    "import torch.optim as optim\n",
    "from torch.utils.data import DataLoader, Dataset\n",
    "import numpy as np\n",
    "from sklearn.metrics import roc_auc_score\n",
    "from sklearn.model_selection import train_test_split\n",
    "from tqdm import tqdm\n",
    "\n",
    "# Define dataset\n",
    "class DTI_Dataset(Dataset):\n",
    "    def __init__(self, dataframe):\n",
    "        self.dataframe = dataframe\n",
    "\n",
    "    def __len__(self):\n",
    "        return len(self.dataframe)\n",
    "\n",
    "    def __getitem__(self, idx):\n",
    "        row = self.dataframe.iloc[idx]\n",
    "        return {\n",
    "            'drug_features': torch.tensor(np.asarray(row['drug_features'], dtype=np.float32)),\n",
    "            'protein_features': torch.tensor(np.asarray(row['protein_features'], dtype=np.float32)),\n",
    "            'label': torch.tensor(float(row['label']), dtype=torch.float32),\n",
    "        }\n",
    "\n",
    "# Define Diffusion Generative Model\n",
    "class DiffusionGenerativeModel(nn.Module):\n",
    "    def __init__(self, drug_input_dim, protein_input_dim, hidden_dim, num_timesteps):\n",
    "        super(DiffusionGenerativeModel, self).__init__()\n",
    "        self.num_timesteps = num_timesteps\n",
    "        self.drug_encoder = nn.Linear(drug_input_dim, hidden_dim)\n",
    "        self.protein_encoder = nn.Linear(protein_input_dim, hidden_dim)\n",
    "        self.layer_norm = nn.LayerNorm(hidden_dim * 2)\n",
    "        self.dropout = nn.Dropout(0.3)\n",
    "        self.denoise_model = nn.Linear(hidden_dim * 2, hidden_dim)\n",
    "        self.classifier = nn.Linear(hidden_dim, 1)\n",
    "        self.activation = nn.ReLU()\n",
    "\n",
    "    def forward(self, drug_features, protein_features, t):\n",
    "        # Encode drug and protein features\n",
    "        drug_embedding = self.activation(self.drug_encoder(drug_features))\n",
    "        protein_embedding = self.activation(self.protein_encoder(protein_features))\n",
    "\n",
    "        # Concatenate embeddings\n",
    "        combined = torch.cat((drug_embedding, protein_embedding), dim=-1)\n",
    "        combined = self.layer_norm(combined)\n",
    "        combined = self.dropout(combined)\n",
    "\n",
    "        # Add learnable timestep embedding\n",
    "        t_embedding = nn.Embedding(self.num_timesteps, combined.size(1))(t.long())\n",
    "        combined += t_embedding\n",
    "\n",
    "        # Denoise process\n",
    "        denoised = self.activation(self.denoise_model(combined))\n",
    "\n",
    "        # Classification layer\n",
    "        output = torch.sigmoid(self.classifier(denoised))\n",
    "        return output\n",
    "\n",
    "    def add_noise(self, x, noise_level=0.1):\n",
    "        noise = noise_level * torch.randn_like(x)\n",
    "        return x + noise\n",
    "\n",
    "# Load data\n",
    "# Assuming `combined_df` is a pandas DataFrame containing all necessary columns\n",
    "train_df, temp_df = train_test_split(combined_df, test_size=0.3, stratify=combined_df['label'], random_state=42)\n",
    "val_df, test_df = train_test_split(temp_df, test_size=0.5, stratify=temp_df['label'], random_state=42)\n",
    "\n",
    "train_dataset = DTI_Dataset(train_df)\n",
    "val_dataset = DTI_Dataset(val_df)\n",
    "test_dataset = DTI_Dataset(test_df)\n",
    "\n",
    "train_loader = DataLoader(train_dataset, batch_size=32, shuffle=True)\n",
    "val_loader = DataLoader(val_dataset, batch_size=32)\n",
    "test_loader = DataLoader(test_dataset, batch_size=32)"
   ]
  },
  {
   "cell_type": "code",
   "execution_count": 5,
   "metadata": {},
   "outputs": [
    {
     "name": "stderr",
     "output_type": "stream",
     "text": [
      "Training Epoch 1: 100%|██████████| 1295/1295 [00:23<00:00, 55.77it/s]\n"
     ]
    },
    {
     "name": "stdout",
     "output_type": "stream",
     "text": [
      "Epoch 1 - Train Loss: 0.6674, Train AUC: 0.6316\n"
     ]
    },
    {
     "name": "stderr",
     "output_type": "stream",
     "text": [
      "/var/folders/7_/j8_cym2s23jfxbknz2gsv_h80000gn/T/ipykernel_40242/4070280312.py:71: FutureWarning: The behavior of DataFrame concatenation with empty or all-NA entries is deprecated. In a future version, this will no longer exclude empty or all-NA columns when determining the result dtypes. To retain the old behavior, exclude the relevant entries before the concat operation.\n",
      "  auc_history = pd.concat([auc_history, pd.DataFrame([new_row])], ignore_index=True)\n"
     ]
    },
    {
     "name": "stdout",
     "output_type": "stream",
     "text": [
      "Epoch 1 - Validation Loss: 0.6594, Validation AUC: 0.6585\n"
     ]
    },
    {
     "name": "stderr",
     "output_type": "stream",
     "text": [
      "Training Epoch 2: 100%|██████████| 1295/1295 [00:20<00:00, 62.90it/s]\n",
      "Training Epoch 3: 100%|██████████| 1295/1295 [00:18<00:00, 70.23it/s]\n",
      "Training Epoch 4: 100%|██████████| 1295/1295 [00:16<00:00, 77.51it/s]\n",
      "Training Epoch 5: 100%|██████████| 1295/1295 [00:16<00:00, 79.55it/s]\n",
      "Training Epoch 6: 100%|██████████| 1295/1295 [00:16<00:00, 79.56it/s]\n",
      "Training Epoch 7: 100%|██████████| 1295/1295 [00:15<00:00, 82.19it/s]\n",
      "Training Epoch 8: 100%|██████████| 1295/1295 [00:16<00:00, 80.42it/s]\n",
      "Training Epoch 9: 100%|██████████| 1295/1295 [00:15<00:00, 84.52it/s]\n",
      "Training Epoch 10: 100%|██████████| 1295/1295 [00:16<00:00, 80.56it/s]\n",
      "Training Epoch 11: 100%|██████████| 1295/1295 [00:15<00:00, 82.61it/s]\n"
     ]
    },
    {
     "name": "stdout",
     "output_type": "stream",
     "text": [
      "Epoch 11 - Train Loss: 0.6293, Train AUC: 0.7305\n",
      "Epoch 11 - Validation Loss: 0.6280, Validation AUC: 0.7310\n"
     ]
    },
    {
     "name": "stderr",
     "output_type": "stream",
     "text": [
      "Training Epoch 12: 100%|██████████| 1295/1295 [00:15<00:00, 83.96it/s]\n",
      "Training Epoch 13: 100%|██████████| 1295/1295 [00:16<00:00, 80.07it/s]\n",
      "Training Epoch 14: 100%|██████████| 1295/1295 [00:15<00:00, 83.82it/s]\n",
      "Training Epoch 15: 100%|██████████| 1295/1295 [00:15<00:00, 82.20it/s]\n",
      "Training Epoch 16: 100%|██████████| 1295/1295 [00:16<00:00, 78.08it/s]\n",
      "Training Epoch 17: 100%|██████████| 1295/1295 [00:16<00:00, 79.12it/s]\n",
      "Training Epoch 18: 100%|██████████| 1295/1295 [00:16<00:00, 78.33it/s]\n",
      "Training Epoch 19: 100%|██████████| 1295/1295 [00:16<00:00, 78.62it/s]\n",
      "Training Epoch 20: 100%|██████████| 1295/1295 [00:17<00:00, 75.70it/s]\n",
      "Training Epoch 21: 100%|██████████| 1295/1295 [00:18<00:00, 68.95it/s]\n"
     ]
    },
    {
     "name": "stdout",
     "output_type": "stream",
     "text": [
      "Epoch 21 - Train Loss: 0.6210, Train AUC: 0.7466\n",
      "Epoch 21 - Validation Loss: 0.6206, Validation AUC: 0.7508\n"
     ]
    },
    {
     "name": "stderr",
     "output_type": "stream",
     "text": [
      "Training Epoch 22: 100%|██████████| 1295/1295 [00:16<00:00, 77.24it/s]\n",
      "Training Epoch 23: 100%|██████████| 1295/1295 [00:15<00:00, 86.04it/s]\n",
      "Training Epoch 24: 100%|██████████| 1295/1295 [00:15<00:00, 85.36it/s]\n",
      "Training Epoch 25: 100%|██████████| 1295/1295 [00:16<00:00, 76.57it/s]\n",
      "Training Epoch 26: 100%|██████████| 1295/1295 [00:17<00:00, 75.38it/s]\n",
      "Training Epoch 27: 100%|██████████| 1295/1295 [00:18<00:00, 68.52it/s]\n",
      "Training Epoch 28: 100%|██████████| 1295/1295 [00:19<00:00, 66.26it/s]\n",
      "Training Epoch 29: 100%|██████████| 1295/1295 [00:20<00:00, 63.20it/s]\n",
      "Training Epoch 30: 100%|██████████| 1295/1295 [00:19<00:00, 66.63it/s]\n",
      "Training Epoch 31: 100%|██████████| 1295/1295 [00:20<00:00, 64.21it/s]\n"
     ]
    },
    {
     "name": "stdout",
     "output_type": "stream",
     "text": [
      "Epoch 31 - Train Loss: 0.6160, Train AUC: 0.7556\n",
      "Epoch 31 - Validation Loss: 0.6191, Validation AUC: 0.7541\n"
     ]
    },
    {
     "name": "stderr",
     "output_type": "stream",
     "text": [
      "Training Epoch 32: 100%|██████████| 1295/1295 [00:19<00:00, 65.62it/s]\n",
      "Training Epoch 33: 100%|██████████| 1295/1295 [00:19<00:00, 65.73it/s]\n",
      "Training Epoch 34: 100%|██████████| 1295/1295 [00:19<00:00, 67.19it/s]\n",
      "Training Epoch 35: 100%|██████████| 1295/1295 [00:16<00:00, 76.76it/s]\n",
      "Training Epoch 36: 100%|██████████| 1295/1295 [00:15<00:00, 84.03it/s]\n",
      "Training Epoch 37: 100%|██████████| 1295/1295 [00:15<00:00, 84.55it/s]\n",
      "Training Epoch 38: 100%|██████████| 1295/1295 [00:14<00:00, 91.07it/s]\n",
      "Training Epoch 39: 100%|██████████| 1295/1295 [00:15<00:00, 84.52it/s]\n",
      "Training Epoch 40: 100%|██████████| 1295/1295 [00:15<00:00, 82.67it/s]\n",
      "Training Epoch 41: 100%|██████████| 1295/1295 [00:16<00:00, 79.02it/s]\n"
     ]
    },
    {
     "name": "stdout",
     "output_type": "stream",
     "text": [
      "Epoch 41 - Train Loss: 0.6121, Train AUC: 0.7642\n",
      "Epoch 41 - Validation Loss: 0.6157, Validation AUC: 0.7616\n"
     ]
    },
    {
     "name": "stderr",
     "output_type": "stream",
     "text": [
      "Training Epoch 42: 100%|██████████| 1295/1295 [00:16<00:00, 79.41it/s]\n",
      "Training Epoch 43: 100%|██████████| 1295/1295 [00:16<00:00, 78.58it/s]\n",
      "Training Epoch 44: 100%|██████████| 1295/1295 [00:15<00:00, 85.19it/s]\n",
      "Training Epoch 45: 100%|██████████| 1295/1295 [00:16<00:00, 76.81it/s]\n",
      "Training Epoch 46: 100%|██████████| 1295/1295 [00:19<00:00, 67.48it/s]\n",
      "Training Epoch 47: 100%|██████████| 1295/1295 [00:18<00:00, 70.26it/s]\n",
      "Training Epoch 48: 100%|██████████| 1295/1295 [00:16<00:00, 77.21it/s]\n",
      "Training Epoch 49: 100%|██████████| 1295/1295 [00:17<00:00, 72.95it/s]\n",
      "Training Epoch 50: 100%|██████████| 1295/1295 [00:18<00:00, 69.27it/s]\n",
      "Training Epoch 51: 100%|██████████| 1295/1295 [00:20<00:00, 64.30it/s]\n"
     ]
    },
    {
     "name": "stdout",
     "output_type": "stream",
     "text": [
      "Epoch 51 - Train Loss: 0.6089, Train AUC: 0.7718\n",
      "Epoch 51 - Validation Loss: 0.6138, Validation AUC: 0.7659\n"
     ]
    },
    {
     "name": "stderr",
     "output_type": "stream",
     "text": [
      "Training Epoch 52: 100%|██████████| 1295/1295 [00:19<00:00, 67.85it/s]\n",
      "Training Epoch 53: 100%|██████████| 1295/1295 [00:17<00:00, 75.61it/s]\n",
      "Training Epoch 54: 100%|██████████| 1295/1295 [00:19<00:00, 65.07it/s]\n",
      "Training Epoch 55: 100%|██████████| 1295/1295 [00:21<00:00, 61.10it/s]\n",
      "Training Epoch 56: 100%|██████████| 1295/1295 [00:19<00:00, 67.85it/s]\n",
      "Training Epoch 57: 100%|██████████| 1295/1295 [00:20<00:00, 63.17it/s]\n",
      "Training Epoch 58: 100%|██████████| 1295/1295 [00:25<00:00, 51.77it/s]\n",
      "Training Epoch 59: 100%|██████████| 1295/1295 [00:20<00:00, 62.28it/s]\n",
      "Training Epoch 60: 100%|██████████| 1295/1295 [00:16<00:00, 77.00it/s]\n",
      "Training Epoch 61: 100%|██████████| 1295/1295 [00:16<00:00, 80.31it/s]\n"
     ]
    },
    {
     "name": "stdout",
     "output_type": "stream",
     "text": [
      "Epoch 61 - Train Loss: 0.6062, Train AUC: 0.7807\n",
      "Epoch 61 - Validation Loss: 0.6115, Validation AUC: 0.7750\n"
     ]
    },
    {
     "name": "stderr",
     "output_type": "stream",
     "text": [
      "Training Epoch 62: 100%|██████████| 1295/1295 [00:16<00:00, 80.66it/s]\n",
      "Training Epoch 63: 100%|██████████| 1295/1295 [00:14<00:00, 87.30it/s]\n",
      "Training Epoch 64: 100%|██████████| 1295/1295 [00:16<00:00, 80.09it/s]\n",
      "Training Epoch 65: 100%|██████████| 1295/1295 [00:17<00:00, 72.49it/s]\n",
      "Training Epoch 66: 100%|██████████| 1295/1295 [00:18<00:00, 70.83it/s]\n",
      "Training Epoch 67: 100%|██████████| 1295/1295 [00:18<00:00, 68.94it/s]\n",
      "Training Epoch 68: 100%|██████████| 1295/1295 [00:19<00:00, 66.26it/s]\n",
      "Training Epoch 69: 100%|██████████| 1295/1295 [00:21<00:00, 60.32it/s]\n",
      "Training Epoch 70: 100%|██████████| 1295/1295 [00:21<00:00, 61.21it/s]\n",
      "Training Epoch 71: 100%|██████████| 1295/1295 [00:23<00:00, 55.28it/s]\n"
     ]
    },
    {
     "name": "stdout",
     "output_type": "stream",
     "text": [
      "Epoch 71 - Train Loss: 0.6033, Train AUC: 0.7904\n",
      "Epoch 71 - Validation Loss: 0.6104, Validation AUC: 0.7782\n"
     ]
    },
    {
     "name": "stderr",
     "output_type": "stream",
     "text": [
      "Training Epoch 72: 100%|██████████| 1295/1295 [00:24<00:00, 53.96it/s]\n",
      "Training Epoch 73: 100%|██████████| 1295/1295 [00:23<00:00, 54.03it/s]\n",
      "Training Epoch 74: 100%|██████████| 1295/1295 [00:21<00:00, 59.48it/s]\n",
      "Training Epoch 75: 100%|██████████| 1295/1295 [00:22<00:00, 57.98it/s]\n",
      "Training Epoch 76: 100%|██████████| 1295/1295 [00:20<00:00, 64.35it/s]\n",
      "Training Epoch 77: 100%|██████████| 1295/1295 [00:20<00:00, 63.91it/s]\n",
      "Training Epoch 78: 100%|██████████| 1295/1295 [00:19<00:00, 66.87it/s]\n",
      "Training Epoch 79: 100%|██████████| 1295/1295 [00:18<00:00, 68.23it/s]\n",
      "Training Epoch 80: 100%|██████████| 1295/1295 [00:23<00:00, 55.37it/s]\n",
      "Training Epoch 81: 100%|██████████| 1295/1295 [00:19<00:00, 64.82it/s]\n"
     ]
    },
    {
     "name": "stdout",
     "output_type": "stream",
     "text": [
      "Epoch 81 - Train Loss: 0.5980, Train AUC: 0.8083\n",
      "Epoch 81 - Validation Loss: 0.6042, Validation AUC: 0.7995\n"
     ]
    },
    {
     "name": "stderr",
     "output_type": "stream",
     "text": [
      "Training Epoch 82: 100%|██████████| 1295/1295 [00:18<00:00, 71.75it/s]\n",
      "Training Epoch 83: 100%|██████████| 1295/1295 [00:15<00:00, 81.18it/s]\n",
      "Training Epoch 84: 100%|██████████| 1295/1295 [00:16<00:00, 80.55it/s]\n",
      "Training Epoch 85: 100%|██████████| 1295/1295 [00:15<00:00, 83.21it/s]\n",
      "Training Epoch 86: 100%|██████████| 1295/1295 [00:15<00:00, 84.40it/s]\n",
      "Training Epoch 87: 100%|██████████| 1295/1295 [00:15<00:00, 80.96it/s]\n",
      "Training Epoch 88: 100%|██████████| 1295/1295 [00:16<00:00, 79.15it/s]\n",
      "Training Epoch 89: 100%|██████████| 1295/1295 [00:18<00:00, 70.52it/s]\n",
      "Training Epoch 90: 100%|██████████| 1295/1295 [00:17<00:00, 76.10it/s]\n",
      "Training Epoch 91: 100%|██████████| 1295/1295 [01:06<00:00, 19.35it/s]\n"
     ]
    },
    {
     "name": "stdout",
     "output_type": "stream",
     "text": [
      "Epoch 91 - Train Loss: 0.5949, Train AUC: 0.8168\n",
      "Epoch 91 - Validation Loss: 0.6041, Validation AUC: 0.8036\n"
     ]
    },
    {
     "name": "stderr",
     "output_type": "stream",
     "text": [
      "Training Epoch 92: 100%|██████████| 1295/1295 [00:16<00:00, 80.46it/s]\n",
      "Training Epoch 93: 100%|██████████| 1295/1295 [00:14<00:00, 92.27it/s]\n",
      "Training Epoch 94: 100%|██████████| 1295/1295 [00:14<00:00, 92.37it/s]\n",
      "Training Epoch 95: 100%|██████████| 1295/1295 [00:14<00:00, 89.91it/s]\n",
      "Training Epoch 96: 100%|██████████| 1295/1295 [00:17<00:00, 74.87it/s]\n",
      "Training Epoch 97: 100%|██████████| 1295/1295 [00:16<00:00, 77.53it/s]\n",
      "Training Epoch 98: 100%|██████████| 1295/1295 [00:17<00:00, 74.61it/s]\n",
      "Training Epoch 99: 100%|██████████| 1295/1295 [00:17<00:00, 75.99it/s]\n",
      "Training Epoch 100: 100%|██████████| 1295/1295 [00:18<00:00, 70.94it/s]\n",
      "Training Epoch 101: 100%|██████████| 1295/1295 [00:18<00:00, 70.52it/s]\n"
     ]
    },
    {
     "name": "stdout",
     "output_type": "stream",
     "text": [
      "Epoch 101 - Train Loss: 0.5915, Train AUC: 0.8237\n",
      "Epoch 101 - Validation Loss: 0.6048, Validation AUC: 0.8074\n"
     ]
    },
    {
     "name": "stderr",
     "output_type": "stream",
     "text": [
      "Training Epoch 102: 100%|██████████| 1295/1295 [00:16<00:00, 79.98it/s]\n",
      "Training Epoch 103: 100%|██████████| 1295/1295 [00:15<00:00, 82.65it/s]\n",
      "Training Epoch 104: 100%|██████████| 1295/1295 [00:16<00:00, 78.57it/s]\n",
      "Training Epoch 105: 100%|██████████| 1295/1295 [00:16<00:00, 76.36it/s]\n",
      "Training Epoch 106: 100%|██████████| 1295/1295 [00:16<00:00, 78.44it/s]\n",
      "Training Epoch 107: 100%|██████████| 1295/1295 [00:17<00:00, 75.83it/s]\n",
      "Training Epoch 108: 100%|██████████| 1295/1295 [00:15<00:00, 82.27it/s]\n",
      "Training Epoch 109: 100%|██████████| 1295/1295 [00:15<00:00, 83.15it/s]\n",
      "Training Epoch 110: 100%|██████████| 1295/1295 [00:14<00:00, 89.22it/s]\n",
      "Training Epoch 111: 100%|██████████| 1295/1295 [00:14<00:00, 88.95it/s]\n"
     ]
    },
    {
     "name": "stdout",
     "output_type": "stream",
     "text": [
      "Epoch 111 - Train Loss: 0.5893, Train AUC: 0.8285\n",
      "Epoch 111 - Validation Loss: 0.6023, Validation AUC: 0.8128\n"
     ]
    },
    {
     "name": "stderr",
     "output_type": "stream",
     "text": [
      "Training Epoch 112: 100%|██████████| 1295/1295 [00:14<00:00, 90.04it/s]\n",
      "Training Epoch 113: 100%|██████████| 1295/1295 [00:14<00:00, 87.32it/s]\n",
      "Training Epoch 114: 100%|██████████| 1295/1295 [00:14<00:00, 88.00it/s]\n",
      "Training Epoch 115: 100%|██████████| 1295/1295 [00:15<00:00, 85.82it/s]\n",
      "Training Epoch 116: 100%|██████████| 1295/1295 [00:15<00:00, 85.08it/s]\n",
      "Training Epoch 117: 100%|██████████| 1295/1295 [00:14<00:00, 86.57it/s]\n",
      "Training Epoch 118: 100%|██████████| 1295/1295 [00:15<00:00, 83.63it/s]\n",
      "Training Epoch 119: 100%|██████████| 1295/1295 [00:15<00:00, 84.97it/s]\n",
      "Training Epoch 120: 100%|██████████| 1295/1295 [00:15<00:00, 84.34it/s]\n",
      "Training Epoch 121: 100%|██████████| 1295/1295 [00:15<00:00, 86.11it/s]\n"
     ]
    },
    {
     "name": "stdout",
     "output_type": "stream",
     "text": [
      "Epoch 121 - Train Loss: 0.5872, Train AUC: 0.8333\n",
      "Epoch 121 - Validation Loss: 0.6017, Validation AUC: 0.8169\n"
     ]
    },
    {
     "name": "stderr",
     "output_type": "stream",
     "text": [
      "Training Epoch 122: 100%|██████████| 1295/1295 [00:14<00:00, 86.58it/s]\n",
      "Training Epoch 123: 100%|██████████| 1295/1295 [00:15<00:00, 83.10it/s]\n",
      "Training Epoch 124: 100%|██████████| 1295/1295 [00:14<00:00, 87.47it/s]\n",
      "Training Epoch 125: 100%|██████████| 1295/1295 [00:15<00:00, 84.79it/s]\n",
      "Training Epoch 126: 100%|██████████| 1295/1295 [00:15<00:00, 82.93it/s]\n",
      "Training Epoch 127: 100%|██████████| 1295/1295 [00:15<00:00, 83.17it/s]\n",
      "Training Epoch 128: 100%|██████████| 1295/1295 [00:15<00:00, 85.51it/s]\n",
      "Training Epoch 129: 100%|██████████| 1295/1295 [00:15<00:00, 85.74it/s]\n",
      "Training Epoch 130: 100%|██████████| 1295/1295 [00:16<00:00, 76.82it/s]\n",
      "Training Epoch 131: 100%|██████████| 1295/1295 [00:17<00:00, 75.62it/s]\n"
     ]
    },
    {
     "name": "stdout",
     "output_type": "stream",
     "text": [
      "Epoch 131 - Train Loss: 0.5853, Train AUC: 0.8369\n",
      "Epoch 131 - Validation Loss: 0.5994, Validation AUC: 0.8161\n"
     ]
    },
    {
     "name": "stderr",
     "output_type": "stream",
     "text": [
      "Training Epoch 132: 100%|██████████| 1295/1295 [00:19<00:00, 68.03it/s]\n",
      "Training Epoch 133: 100%|██████████| 1295/1295 [00:20<00:00, 64.66it/s]\n",
      "Training Epoch 134: 100%|██████████| 1295/1295 [00:19<00:00, 65.54it/s]\n",
      "Training Epoch 135: 100%|██████████| 1295/1295 [00:18<00:00, 68.29it/s]\n",
      "Training Epoch 136: 100%|██████████| 1295/1295 [00:18<00:00, 69.95it/s]\n",
      "Training Epoch 137: 100%|██████████| 1295/1295 [00:15<00:00, 81.16it/s]\n",
      "Training Epoch 138: 100%|██████████| 1295/1295 [00:14<00:00, 86.38it/s]\n",
      "Training Epoch 139: 100%|██████████| 1295/1295 [00:16<00:00, 79.42it/s]\n",
      "Training Epoch 140: 100%|██████████| 1295/1295 [00:14<00:00, 88.62it/s]\n",
      "Training Epoch 141: 100%|██████████| 1295/1295 [00:14<00:00, 88.14it/s]\n"
     ]
    },
    {
     "name": "stdout",
     "output_type": "stream",
     "text": [
      "Epoch 141 - Train Loss: 0.5832, Train AUC: 0.8396\n",
      "Epoch 141 - Validation Loss: 0.5968, Validation AUC: 0.8204\n"
     ]
    },
    {
     "name": "stderr",
     "output_type": "stream",
     "text": [
      "Training Epoch 142: 100%|██████████| 1295/1295 [00:15<00:00, 86.19it/s]\n",
      "Training Epoch 143: 100%|██████████| 1295/1295 [00:14<00:00, 87.57it/s]\n",
      "Training Epoch 144: 100%|██████████| 1295/1295 [00:14<00:00, 88.59it/s]\n",
      "Training Epoch 145: 100%|██████████| 1295/1295 [00:14<00:00, 88.37it/s]\n",
      "Training Epoch 146: 100%|██████████| 1295/1295 [00:15<00:00, 84.69it/s]\n",
      "Training Epoch 147: 100%|██████████| 1295/1295 [00:19<00:00, 65.79it/s]\n",
      "Training Epoch 148: 100%|██████████| 1295/1295 [00:25<00:00, 50.64it/s]\n",
      "Training Epoch 149: 100%|██████████| 1295/1295 [00:21<00:00, 60.47it/s]\n",
      "Training Epoch 150: 100%|██████████| 1295/1295 [00:19<00:00, 67.43it/s]\n",
      "Training Epoch 151: 100%|██████████| 1295/1295 [00:19<00:00, 68.07it/s]\n"
     ]
    },
    {
     "name": "stdout",
     "output_type": "stream",
     "text": [
      "Epoch 151 - Train Loss: 0.5813, Train AUC: 0.8442\n",
      "Epoch 151 - Validation Loss: 0.5989, Validation AUC: 0.8219\n"
     ]
    },
    {
     "name": "stderr",
     "output_type": "stream",
     "text": [
      "Training Epoch 152: 100%|██████████| 1295/1295 [00:25<00:00, 50.30it/s]\n",
      "Training Epoch 153: 100%|██████████| 1295/1295 [00:43<00:00, 30.08it/s]\n",
      "Training Epoch 154: 100%|██████████| 1295/1295 [00:24<00:00, 52.01it/s]\n",
      "Training Epoch 155: 100%|██████████| 1295/1295 [00:21<00:00, 61.17it/s]\n",
      "Training Epoch 156: 100%|██████████| 1295/1295 [00:23<00:00, 55.40it/s]\n",
      "Training Epoch 157: 100%|██████████| 1295/1295 [00:23<00:00, 55.63it/s]\n",
      "Training Epoch 158: 100%|██████████| 1295/1295 [00:20<00:00, 62.15it/s]\n",
      "Training Epoch 159: 100%|██████████| 1295/1295 [00:30<00:00, 42.29it/s]\n",
      "Training Epoch 160: 100%|██████████| 1295/1295 [00:25<00:00, 50.16it/s]\n",
      "Training Epoch 161: 100%|██████████| 1295/1295 [00:20<00:00, 64.42it/s]\n"
     ]
    },
    {
     "name": "stdout",
     "output_type": "stream",
     "text": [
      "Epoch 161 - Train Loss: 0.5775, Train AUC: 0.8770\n",
      "Epoch 161 - Validation Loss: 0.5918, Validation AUC: 0.8507\n"
     ]
    },
    {
     "name": "stderr",
     "output_type": "stream",
     "text": [
      "Training Epoch 162: 100%|██████████| 1295/1295 [00:19<00:00, 65.24it/s]\n",
      "Training Epoch 163: 100%|██████████| 1295/1295 [00:21<00:00, 60.14it/s]\n",
      "Training Epoch 164: 100%|██████████| 1295/1295 [00:19<00:00, 64.93it/s]\n",
      "Training Epoch 165: 100%|██████████| 1295/1295 [00:17<00:00, 72.93it/s]\n",
      "Training Epoch 166: 100%|██████████| 1295/1295 [00:17<00:00, 73.45it/s]\n",
      "Training Epoch 167: 100%|██████████| 1295/1295 [00:17<00:00, 74.10it/s]\n",
      "Training Epoch 168: 100%|██████████| 1295/1295 [00:18<00:00, 71.52it/s]\n",
      "Training Epoch 169: 100%|██████████| 1295/1295 [00:17<00:00, 72.71it/s]\n",
      "Training Epoch 170: 100%|██████████| 1295/1295 [00:22<00:00, 57.31it/s]\n",
      "Training Epoch 171: 100%|██████████| 1295/1295 [00:23<00:00, 54.08it/s]\n"
     ]
    },
    {
     "name": "stdout",
     "output_type": "stream",
     "text": [
      "Epoch 171 - Train Loss: 0.5729, Train AUC: 0.8886\n",
      "Epoch 171 - Validation Loss: 0.5893, Validation AUC: 0.8595\n"
     ]
    },
    {
     "name": "stderr",
     "output_type": "stream",
     "text": [
      "Training Epoch 172: 100%|██████████| 1295/1295 [00:23<00:00, 55.72it/s]\n",
      "Training Epoch 173: 100%|██████████| 1295/1295 [00:22<00:00, 58.61it/s]\n",
      "Training Epoch 174: 100%|██████████| 1295/1295 [00:23<00:00, 55.08it/s]\n",
      "Training Epoch 175: 100%|██████████| 1295/1295 [00:20<00:00, 63.54it/s]\n",
      "Training Epoch 176: 100%|██████████| 1295/1295 [00:22<00:00, 57.77it/s]\n",
      "Training Epoch 177: 100%|██████████| 1295/1295 [00:24<00:00, 53.51it/s]\n",
      "Training Epoch 178: 100%|██████████| 1295/1295 [00:25<00:00, 51.03it/s]\n",
      "Training Epoch 179: 100%|██████████| 1295/1295 [00:22<00:00, 56.63it/s]\n",
      "Training Epoch 180: 100%|██████████| 1295/1295 [00:25<00:00, 51.76it/s]\n",
      "Training Epoch 181: 100%|██████████| 1295/1295 [00:29<00:00, 43.17it/s]\n"
     ]
    },
    {
     "name": "stdout",
     "output_type": "stream",
     "text": [
      "Epoch 181 - Train Loss: 0.5708, Train AUC: 0.8942\n",
      "Epoch 181 - Validation Loss: 0.5880, Validation AUC: 0.8644\n"
     ]
    },
    {
     "name": "stderr",
     "output_type": "stream",
     "text": [
      "Training Epoch 182: 100%|██████████| 1295/1295 [00:41<00:00, 31.40it/s]\n",
      "Training Epoch 183: 100%|██████████| 1295/1295 [00:41<00:00, 31.36it/s]\n",
      "Training Epoch 184: 100%|██████████| 1295/1295 [00:34<00:00, 37.18it/s]\n",
      "Training Epoch 185: 100%|██████████| 1295/1295 [00:28<00:00, 45.01it/s]\n",
      "Training Epoch 186: 100%|██████████| 1295/1295 [00:31<00:00, 41.03it/s]\n",
      "Training Epoch 187: 100%|██████████| 1295/1295 [00:32<00:00, 40.40it/s]\n",
      "Training Epoch 188: 100%|██████████| 1295/1295 [00:30<00:00, 42.88it/s]\n",
      "Training Epoch 189: 100%|██████████| 1295/1295 [00:27<00:00, 47.28it/s]\n",
      "Training Epoch 190: 100%|██████████| 1295/1295 [00:27<00:00, 46.43it/s]\n",
      "Training Epoch 191: 100%|██████████| 1295/1295 [00:29<00:00, 43.73it/s]\n"
     ]
    },
    {
     "name": "stdout",
     "output_type": "stream",
     "text": [
      "Epoch 191 - Train Loss: 0.5679, Train AUC: 0.8972\n",
      "Epoch 191 - Validation Loss: 0.5865, Validation AUC: 0.8688\n"
     ]
    },
    {
     "name": "stderr",
     "output_type": "stream",
     "text": [
      "Training Epoch 192: 100%|██████████| 1295/1295 [00:26<00:00, 49.14it/s]\n",
      "Training Epoch 193: 100%|██████████| 1295/1295 [00:30<00:00, 42.48it/s]\n",
      "Training Epoch 194: 100%|██████████| 1295/1295 [00:30<00:00, 42.65it/s]\n",
      "Training Epoch 195: 100%|██████████| 1295/1295 [00:22<00:00, 56.84it/s]\n",
      "Training Epoch 196: 100%|██████████| 1295/1295 [00:23<00:00, 55.31it/s]\n",
      "Training Epoch 197: 100%|██████████| 1295/1295 [00:23<00:00, 54.93it/s]\n",
      "Training Epoch 198: 100%|██████████| 1295/1295 [00:25<00:00, 51.58it/s]\n",
      "Training Epoch 199: 100%|██████████| 1295/1295 [00:24<00:00, 53.25it/s]\n",
      "Training Epoch 200: 100%|██████████| 1295/1295 [00:22<00:00, 57.25it/s]\n"
     ]
    },
    {
     "name": "stdout",
     "output_type": "stream",
     "text": [
      "Test AUC: 0.8719\n"
     ]
    }
   ],
   "source": [
    "# Verify feature dimensions\n",
    "for batch in train_loader:\n",
    "    drug_input_dim = batch['drug_features'].shape[1]  # Dynamically determine drug input dimension\n",
    "    protein_input_dim = batch['protein_features'].shape[1]  # Dynamically determine protein input dimension\n",
    "    break\n",
    "\n",
    "# Initialize model, optimizer, and loss function\n",
    "num_timesteps = 10\n",
    "model = DiffusionGenerativeModel(drug_input_dim=drug_input_dim, protein_input_dim=protein_input_dim, hidden_dim=512, num_timesteps=num_timesteps)\n",
    "optimizer = optim.Adam(model.parameters(), lr=0.0001)\n",
    "pos_weight = torch.tensor([len(train_df) / train_df['label'].sum() - 1], dtype=torch.float32)\n",
    "criterion = nn.BCEWithLogitsLoss(pos_weight=pos_weight)\n",
    "\n",
    "# Training and Validation Loop\n",
    "for epoch in range(200):\n",
    "    model.train()\n",
    "    total_loss = 0\n",
    "    val_total_loss = 0\n",
    "    train_predictions, train_labels = [], []\n",
    "\n",
    "    for batch in tqdm(train_loader, desc=f\"Training Epoch {epoch + 1}\"):\n",
    "        drug_features = batch['drug_features']\n",
    "        protein_features = batch['protein_features']\n",
    "        labels = batch['label']\n",
    "\n",
    "        # Add noise to the features\n",
    "        noisy_drug_features = model.add_noise(drug_features, noise_level=0.1)\n",
    "        noisy_protein_features = model.add_noise(protein_features, noise_level=0.1)\n",
    "\n",
    "        optimizer.zero_grad()\n",
    "        outputs = model(noisy_drug_features, noisy_protein_features, torch.randint(0, num_timesteps, (drug_features.size(0),))).squeeze()\n",
    "        loss = criterion(outputs, labels)\n",
    "        loss.backward()\n",
    "        optimizer.step()\n",
    "        total_loss += loss.item()\n",
    "\n",
    "        # Store predictions and labels for AUC calculation\n",
    "        train_predictions.extend(torch.sigmoid(outputs).detach().cpu().numpy())\n",
    "        train_labels.extend(labels.cpu().numpy())\n",
    "\n",
    "    # Calculate AUC for training\n",
    "    train_auc = roc_auc_score(train_labels, train_predictions)\n",
    "    if epoch % 10 == 0:\n",
    "        print(f\"Epoch {epoch + 1} - Train Loss: {total_loss / len(train_loader):.4f}, Train AUC: {train_auc:.4f}\")\n",
    "\n",
    "    # Validation AUC\n",
    "    model.eval()\n",
    "    val_predictions, val_labels = [], []\n",
    "    with torch.no_grad():\n",
    "        for batch in val_loader:\n",
    "            drug_features = batch['drug_features']\n",
    "            protein_features = batch['protein_features']\n",
    "            labels = batch['label']\n",
    "\n",
    "            # Add noise to the features\n",
    "            noisy_drug_features = model.add_noise(drug_features, noise_level=0.1)\n",
    "            noisy_protein_features = model.add_noise(protein_features, noise_level=0.1)\n",
    "\n",
    "            outputs = model(noisy_drug_features, noisy_protein_features, torch.randint(0, num_timesteps, (drug_features.size(0),))).squeeze()\n",
    "            val_predictions.extend(torch.sigmoid(outputs).cpu().numpy())\n",
    "            val_labels.extend(labels.cpu().numpy())\n",
    "            val_loss = criterion(outputs, labels)\n",
    "            val_total_loss += val_loss.item()\n",
    "\n",
    "    val_auc = roc_auc_score(val_labels, val_predictions)\n",
    "    if epoch % 10 == 0:\n",
    "        print(f\"Epoch {epoch + 1} - Validation Loss: {val_total_loss / len(val_loader):.4f}, Validation AUC: {val_auc:.4f}\")\n",
    "    \n",
    "     # Save AUC to DataFrame\n",
    "    new_row = {'epoch': epoch + 1, 'Train Loss': total_loss / len(train_loader), 'Train AUC': train_auc, 'Val Loss': val_total_loss / len(val_loader), 'Val AUC': val_auc}\n",
    "    auc_history = pd.concat([auc_history, pd.DataFrame([new_row])], ignore_index=True)\n",
    "\n",
    "# Test AUC\n",
    "model.eval()\n",
    "test_predictions, test_labels = [], []\n",
    "with torch.no_grad():\n",
    "    for batch in test_loader:\n",
    "        drug_features = batch['drug_features']\n",
    "        protein_features = batch['protein_features']\n",
    "        labels = batch['label']\n",
    "\n",
    "        # Add noise to the features\n",
    "        noisy_drug_features = model.add_noise(drug_features, noise_level=0.1)\n",
    "        noisy_protein_features = model.add_noise(protein_features, noise_level=0.1)\n",
    "\n",
    "        outputs = model(noisy_drug_features, noisy_protein_features, torch.randint(0, num_timesteps, (drug_features.size(0),))).squeeze()\n",
    "        test_predictions.extend(torch.sigmoid(outputs).cpu().numpy())\n",
    "        test_labels.extend(labels.cpu().numpy())\n",
    "\n",
    "test_auc = roc_auc_score(test_labels, test_predictions)\n",
    "print(f\"Test AUC: {test_auc:.4f}\")\n"
   ]
  },
  {
   "cell_type": "code",
   "execution_count": 8,
   "metadata": {},
   "outputs": [
    {
     "name": "stdout",
     "output_type": "stream",
     "text": [
      "Test AUC: 0.8735\n",
      "Test Accuracy: 0.8192\n",
      "Test Precision: 0.8803\n",
      "Test Recall (Sensitivity): 0.7388\n",
      "Test F1-Score: 0.8034\n",
      "Test Specificity: 0.8995\n"
     ]
    }
   ],
   "source": [
    "from sklearn.metrics import roc_auc_score, accuracy_score, precision_score, recall_score, f1_score, confusion_matrix\n",
    "\n",
    "# Test Evaluation with Additional Metrics\n",
    "model.eval()\n",
    "test_predictions, test_labels = [], []\n",
    "with torch.no_grad():\n",
    "    for batch in test_loader:\n",
    "        drug_features = batch['drug_features']\n",
    "        protein_features = batch['protein_features']\n",
    "        labels = batch['label']\n",
    "\n",
    "        # Add noise to the features\n",
    "        noisy_drug_features = model.add_noise(drug_features, noise_level=0.1)\n",
    "        noisy_protein_features = model.add_noise(protein_features, noise_level=0.1)\n",
    "\n",
    "        outputs = model(noisy_drug_features, noisy_protein_features, torch.randint(0, num_timesteps, (drug_features.size(0),))).squeeze()\n",
    "        test_predictions.extend(torch.sigmoid(outputs).cpu().numpy())\n",
    "        test_labels.extend(labels.cpu().numpy())\n",
    "\n",
    "# Convert predictions to binary\n",
    "test_predictions_binary = (np.array(test_predictions) >= 0.65).astype(int)\n",
    "\n",
    "# Calculate Metrics\n",
    "test_auc = roc_auc_score(test_labels, test_predictions)\n",
    "test_accuracy = accuracy_score(test_labels, test_predictions_binary)\n",
    "test_precision = precision_score(test_labels, test_predictions_binary, zero_division=0)\n",
    "test_recall = recall_score(test_labels, test_predictions_binary, zero_division=0)\n",
    "test_f1 = f1_score(test_labels, test_predictions_binary, zero_division=0)\n",
    "\n",
    "# Sensitivity and Specificity\n",
    "tn, fp, fn, tp = confusion_matrix(test_labels, test_predictions_binary).ravel()\n",
    "test_sensitivity = tp / (tp + fn)\n",
    "test_specificity = tn / (tn + fp)\n",
    "\n",
    "# Print Results\n",
    "print(f\"Test AUC: {test_auc:.4f}\")\n",
    "print(f\"Test Accuracy: {test_accuracy:.4f}\")\n",
    "print(f\"Test Precision: {test_precision:.4f}\")\n",
    "print(f\"Test Recall (Sensitivity): {test_recall:.4f}\")\n",
    "print(f\"Test F1-Score: {test_f1:.4f}\")\n",
    "print(f\"Test Specificity: {test_specificity:.4f}\")"
   ]
  },
  {
   "cell_type": "code",
   "execution_count": null,
   "metadata": {},
   "outputs": [],
   "source": [
    "import pandas as pd\n",
    "import numpy as np\n",
    "from sklearn.ensemble import RandomForestClassifier, GradientBoostingClassifier\n",
    "from sklearn.svm import SVC\n",
    "from sklearn.linear_model import LogisticRegression\n",
    "from sklearn.neural_network import MLPClassifier\n",
    "from sklearn.metrics import roc_auc_score, accuracy_score, precision_score, recall_score, f1_score, confusion_matrix\n",
    "from sklearn.preprocessing import StandardScaler\n",
    "from sklearn.model_selection import train_test_split\n",
    "\n",
    "# Initialize DataFrame to store metrics\n",
    "metrics_df = pd.DataFrame(columns=['Model', 'Dataset', 'AUC', 'Accuracy', 'Sensitivity', 'Specificity', 'Precision', 'Recall', 'F1-Score'])\n",
    "\n",
    "def calculate_metrics(y_true, y_pred_proba, y_pred):\n",
    "    \"\"\"\n",
    "    Calculate performance metrics.\n",
    "    \"\"\"\n",
    "    auc = roc_auc_score(y_true, y_pred_proba)\n",
    "    accuracy = accuracy_score(y_true, y_pred)\n",
    "    precision = precision_score(y_true, y_pred, zero_division=0)\n",
    "    recall = recall_score(y_true, y_pred, zero_division=0)\n",
    "    f1 = f1_score(y_true, y_pred, zero_division=0)\n",
    "    \n",
    "    # Sensitivity and Specificity\n",
    "    tn, fp, fn, tp = confusion_matrix(y_true, y_pred).ravel()\n",
    "    sensitivity = tp / (tp + fn)\n",
    "    specificity = tn / (tn + fp)\n",
    "    \n",
    "    return auc, accuracy, sensitivity, specificity, precision, recall, f1\n",
    "\n",
    "def evaluate_model(model_name, model, X_train, y_train, X_val, y_val, X_test, y_test):\n",
    "    \"\"\"\n",
    "    Train and evaluate a model, and save metrics to DataFrame.\n",
    "    \"\"\"\n",
    "    global metrics_df\n",
    "\n",
    "    # Train predictions\n",
    "    train_pred_proba = model.predict_proba(X_train)[:, 1]\n",
    "    train_pred = (train_pred_proba >= 0.5).astype(int)\n",
    "    train_metrics = calculate_metrics(y_train, train_pred_proba, train_pred)\n",
    "    \n",
    "    # Validation predictions\n",
    "    val_pred_proba = model.predict_proba(X_val)[:, 1]\n",
    "    val_pred = (val_pred_proba >= 0.5).astype(int)\n",
    "    val_metrics = calculate_metrics(y_val, val_pred_proba, val_pred)\n",
    "\n",
    "    # Test predictions\n",
    "    test_pred_proba = model.predict_proba(X_test)[:, 1]\n",
    "    test_pred = (test_pred_proba >= 0.5).astype(int)\n",
    "    test_metrics = calculate_metrics(y_test, test_pred_proba, test_pred)\n",
    "\n",
    "    # Append metrics to DataFrame\n",
    "    datasets = ['Training', 'Validation', 'Test']\n",
    "    metrics = [train_metrics, val_metrics, test_metrics]\n",
    "    rows = []\n",
    "    for dataset, metric in zip(datasets, metrics):\n",
    "        auc, accuracy, sensitivity, specificity, precision, recall, f1 = metric\n",
    "        rows.append({\n",
    "            'Model': model_name,\n",
    "            'Dataset': dataset,\n",
    "            'AUC': auc,\n",
    "            'Accuracy': accuracy,\n",
    "            'Sensitivity': sensitivity,\n",
    "            'Specificity': specificity,\n",
    "            'Precision': precision,\n",
    "            'Recall': recall,\n",
    "            'F1-Score': f1\n",
    "        })\n",
    "    \n",
    "    # Update metrics_df\n",
    "    metrics_df = pd.concat([metrics_df, pd.DataFrame(rows)], ignore_index=True)\n",
    "\n",
    "# Load your data\n",
    "# Assuming `combined_df` contains all necessary columns\n",
    "# Split into train, validation, and test sets\n",
    "train_df, temp_df = train_test_split(combined_df, test_size=0.3, stratify=combined_df['label'], random_state=42)\n",
    "val_df, test_df = train_test_split(temp_df, test_size=0.5, stratify=temp_df['label'], random_state=42)\n",
    "\n",
    "X_train = np.hstack((np.vstack(train_df['drug_features']), np.vstack(train_df['protein_features'])))\n",
    "X_val = np.hstack((np.vstack(val_df['drug_features']), np.vstack(val_df['protein_features'])))\n",
    "X_test = np.hstack((np.vstack(test_df['drug_features']), np.vstack(test_df['protein_features'])))\n",
    "y_train, y_val, y_test = train_df['label'], val_df['label'], test_df['label']\n",
    "\n",
    "# Scale features for certain models\n",
    "scaler = StandardScaler()\n",
    "X_train_scaled = scaler.fit_transform(X_train)\n",
    "X_val_scaled = scaler.transform(X_val)\n",
    "X_test_scaled = scaler.transform(X_test)\n",
    "print('Random Forest')\n",
    "# Random Forest\n",
    "rf_model = RandomForestClassifier(n_estimators=100, random_state=42)\n",
    "rf_model.fit(X_train, y_train)\n",
    "evaluate_model('Random Forest', rf_model, X_train, y_train, X_val, y_val, X_test, y_test)\n",
    "print('SVM')\n",
    "# SVM\n",
    "svm_model = SVC(probability=True, kernel='rbf', random_state=42)\n",
    "svm_model.fit(X_train_scaled, y_train)\n",
    "evaluate_model('SVM', svm_model, X_train_scaled, y_train, X_val_scaled, y_val, X_test_scaled, y_test)\n",
    "print('GBM')\n",
    "# GBM\n",
    "gbm_model = GradientBoostingClassifier(n_estimators=100, learning_rate=0.1, random_state=42)\n",
    "gbm_model.fit(X_train, y_train)\n",
    "evaluate_model('GBM', gbm_model, X_train, y_train, X_val, y_val, X_test, y_test)\n",
    "print('Logistic Regression')\n",
    "# Logistic Regression\n",
    "log_reg_model = LogisticRegression(random_state=42, max_iter=1000)\n",
    "log_reg_model.fit(X_train_scaled, y_train)\n",
    "evaluate_model('Logistic Regression', log_reg_model, X_train_scaled, y_train, X_val_scaled, y_val, X_test_scaled, y_test)\n",
    "print('MLP')\n",
    "# MLP\n",
    "mlp_model = MLPClassifier(hidden_layer_sizes=(512, 256), activation='relu', max_iter=200, random_state=42)\n",
    "mlp_model.fit(X_train_scaled, y_train)\n",
    "evaluate_model('MLP', mlp_model, X_train_scaled, y_train, X_val_scaled, y_val, X_test_scaled, y_test)\n",
    "\n",
    "# # Save metrics_df to CSV\n",
    "# metrics_df.to_csv(\"model_comparison_metrics.csv\", index=False)"
   ]
  },
  {
   "cell_type": "code",
   "execution_count": 25,
   "metadata": {},
   "outputs": [
    {
     "data": {
      "text/html": [
       "<div>\n",
       "<style scoped>\n",
       "    .dataframe tbody tr th:only-of-type {\n",
       "        vertical-align: middle;\n",
       "    }\n",
       "\n",
       "    .dataframe tbody tr th {\n",
       "        vertical-align: top;\n",
       "    }\n",
       "\n",
       "    .dataframe thead th {\n",
       "        text-align: right;\n",
       "    }\n",
       "</style>\n",
       "<table border=\"1\" class=\"dataframe\">\n",
       "  <thead>\n",
       "    <tr style=\"text-align: right;\">\n",
       "      <th></th>\n",
       "      <th>epoch</th>\n",
       "      <th>Train Loss</th>\n",
       "      <th>Train AUC</th>\n",
       "      <th>Val Loss</th>\n",
       "      <th>Val AUC</th>\n",
       "    </tr>\n",
       "  </thead>\n",
       "  <tbody>\n",
       "    <tr>\n",
       "      <th>995</th>\n",
       "      <td>996</td>\n",
       "      <td>0.532451</td>\n",
       "      <td>0.963410</td>\n",
       "      <td>0.575953</td>\n",
       "      <td>0.894960</td>\n",
       "    </tr>\n",
       "    <tr>\n",
       "      <th>996</th>\n",
       "      <td>997</td>\n",
       "      <td>0.531409</td>\n",
       "      <td>0.964915</td>\n",
       "      <td>0.576616</td>\n",
       "      <td>0.895653</td>\n",
       "    </tr>\n",
       "    <tr>\n",
       "      <th>997</th>\n",
       "      <td>998</td>\n",
       "      <td>0.531204</td>\n",
       "      <td>0.964244</td>\n",
       "      <td>0.576329</td>\n",
       "      <td>0.894895</td>\n",
       "    </tr>\n",
       "    <tr>\n",
       "      <th>998</th>\n",
       "      <td>999</td>\n",
       "      <td>0.532672</td>\n",
       "      <td>0.963647</td>\n",
       "      <td>0.574827</td>\n",
       "      <td>0.894920</td>\n",
       "    </tr>\n",
       "    <tr>\n",
       "      <th>999</th>\n",
       "      <td>1000</td>\n",
       "      <td>0.532089</td>\n",
       "      <td>0.963088</td>\n",
       "      <td>0.577133</td>\n",
       "      <td>0.894215</td>\n",
       "    </tr>\n",
       "  </tbody>\n",
       "</table>\n",
       "</div>"
      ],
      "text/plain": [
       "    epoch  Train Loss  Train AUC  Val Loss   Val AUC\n",
       "995   996    0.532451   0.963410  0.575953  0.894960\n",
       "996   997    0.531409   0.964915  0.576616  0.895653\n",
       "997   998    0.531204   0.964244  0.576329  0.894895\n",
       "998   999    0.532672   0.963647  0.574827  0.894920\n",
       "999  1000    0.532089   0.963088  0.577133  0.894215"
      ]
     },
     "execution_count": 25,
     "metadata": {},
     "output_type": "execute_result"
    }
   ],
   "source": [
    "auc_history.tail()"
   ]
  },
  {
   "cell_type": "code",
   "execution_count": 26,
   "metadata": {},
   "outputs": [],
   "source": [
    "import pandas as pd\n",
    "import matplotlib.pyplot as plt\n",
    "import seaborn as sns\n",
    "sns.set_style('ticks')"
   ]
  },
  {
   "cell_type": "code",
   "execution_count": 28,
   "metadata": {},
   "outputs": [
    {
     "data": {
      "image/png": "[encoded data removed]",
      "text/plain": [
       "<Figure size 1000x600 with 1 Axes>"
      ]
     },
     "metadata": {},
     "output_type": "display_data"
    }
   ],
   "source": [
    "# Load metrics\n",
    "\n",
    "metrics = auc_history\n",
    "metrics[['epoch', 'Train Loss', 'Train AUC', 'Val Loss', 'Val AUC']] = metrics[['epoch', 'Train Loss', 'Train AUC', 'Val Loss', 'Val AUC']].astype(float)\n",
    "\n",
    "# Plot the training loss over epochs using seaborn\n",
    "plt.figure(figsize=(10, 6))\n",
    "sns.lineplot(data=metrics, x='epoch', y='Train Loss', label='Train Loss')\n",
    "sns.lineplot(data=metrics, x='epoch', y='Val Loss', label='Val Loss')\n",
    "# sns.lineplot(data=metrics, x='epoch', y='Train AUC', label='Train AUC')\n",
    "# sns.lineplot(data=metrics, x='epoch', y='Val AUC', label='Val AUC')\n",
    "# sns.lineplot(data=metrics, x='Epoch', y='Valid_RMSE', label='Valid_RMSE')\n",
    "# sns.lineplot(data=metrics, x='Epoch', y='Valid_MAE', label='Valid_MAE')\n",
    "# Add titles and labels\n",
    "plt.title('Training and Validation Metrics Over Epochs', fontsize=14)\n",
    "# Define the range of tick positions\n",
    "# plt.xticks(ticks=np.arange(0, epochs+1, 500))  # Adjust step size as needed\n",
    "# plt.xlim(-50, epochs+50)\n",
    "plt.xlabel('Epoch', fontsize=12)\n",
    "plt.ylabel('Loss', fontsize=12)\n",
    "plt.grid(False)\n",
    "# Show the plot\n",
    "plt.show()"
   ]
  },
  {
   "cell_type": "code",
   "execution_count": null,
   "metadata": {},
   "outputs": [],
   "source": []
  }
 ],
 "metadata": {
  "kernelspec": {
   "display_name": "spavae",
   "language": "python",
   "name": "python3"
  },
  "language_info": {
   "codemirror_mode": {
    "name": "ipython",
    "version": 3
   },
   "file_extension": ".py",
   "mimetype": "text/x-python",
   "name": "python",
   "nbconvert_exporter": "python",
   "pygments_lexer": "ipython3",
   "version": "3.9.7"
  }
 },
 "nbformat": 4,
 "nbformat_minor": 2
}
