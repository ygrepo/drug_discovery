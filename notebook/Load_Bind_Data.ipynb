{
 "cells": [
  {
   "cell_type": "code",
   "execution_count": null,
   "id": "1b903731",
   "metadata": {},
   "outputs": [],
   "source": [
    "import pandas as pd\n",
    "import torch"
   ]
  },
  {
   "cell_type": "code",
   "execution_count": null,
   "id": "11528405",
   "metadata": {},
   "outputs": [],
   "source": [
    "bindingdb_data = pd.read_csv('./BindingDB/BindingDB_All_07282025.tsv', sep='\\t', usecols=select_cols)\n",
    "select_cols = ['BindingDB Reactant_set_id',\n",
    " 'Ligand SMILES',\n",
    " 'Ligand InChI',\n",
    " 'Ligand InChI Key',\n",
    " 'BindingDB MonomerID',\n",
    " 'BindingDB Ligand Name',\n",
    " 'Target Name',\n",
    " 'Target Source Organism According to Curator or DataSource',\n",
    " 'Ki (nM)',\n",
    " 'IC50 (nM)',\n",
    " 'Kd (nM)',\n",
    " 'EC50 (nM)',\n",
    " 'kon (M-1-s-1)',\n",
    " 'koff (s-1)',\n",
    " 'pH',\n",
    " 'PubChem CID',\n",
    " 'ChEMBL ID of Ligand',\n",
    " 'DrugBank ID of Ligand',\n",
    " 'Number of Protein Chains in Target (>1 implies a multichain complex)',\n",
    " 'BindingDB Target Chain Sequence 1',\n",
    " 'UniProt (SwissProt) Recommended Name of Target Chain 1',\n",
    " 'UniProt (SwissProt) Entry Name of Target Chain 1',\n",
    " 'UniProt (SwissProt) Primary ID of Target Chain 1',\n",
    " 'UniProt (SwissProt) Secondary ID(s) of Target Chain 1',\n",
    " 'UniProt (SwissProt) Alternative ID(s) of Target Chain 1']\n",
    "bindingdb_data.head()"
   ]
  },
  {
   "cell_type": "code",
   "execution_count": null,
   "id": "38e83d3b",
   "metadata": {},
   "outputs": [],
   "source": [
    "# For simplicity, we only consider the first chain of the target protein and use the following columns.\n",
    "bindingdb_data_seq = bindingdb_data[ ['BindingDB Target Chain Sequence 1',\n",
    " 'UniProt (SwissProt) Recommended Name of Target Chain 1',\n",
    " 'UniProt (SwissProt) Entry Name of Target Chain 1',\n",
    " 'UniProt (SwissProt) Primary ID of Target Chain 1']].drop_duplicates().reset_index(drop=True)"
   ]
  },
  {
   "cell_type": "code",
   "execution_count": null,
   "id": "a7f2076c",
   "metadata": {},
   "outputs": [],
   "source": [
    "binddb = torch.load('./BindDB/BindDB.pt',weights_only=False)\n",
    "davis = torch.load('./Davis/Davis.pt',weights_only=False)\n",
    "kiba = torch.load('./KIBA/KIBA.pt',weights_only=False)"
   ]
  }
 ],
 "metadata": {
  "language_info": {
   "name": "python"
  }
 },
 "nbformat": 4,
 "nbformat_minor": 5
}
